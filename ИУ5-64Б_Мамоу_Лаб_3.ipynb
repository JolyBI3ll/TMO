{
  "cells": [
    {
      "cell_type": "markdown",
      "source": [
        "# Подготовка обучающей и тестовой выборки, кросс-валидация и подбор гиперпараметров на примере метода ближайших соседей.\n",
        "---\n",
        "## Задание:\n",
        "1.   Выберите набор данных (датасет) для решения задачи классификации или регрессии.\n",
        "\n",
        "2.   В случае необходимости проведите удаление или заполнение пропусков и кодирование категориальных признаков.\n",
        "\n",
        "3.  С использованием метода train_test_split разделите выборку на обучающую и тестовую.\n",
        "\n",
        "4.  Обучите модель ближайших соседей для произвольно заданного гиперпараметра K. Оцените качество модели с помощью подходящих для задачи метрик.\n",
        "\n",
        "5.  Произведите подбор гиперпараметра K с использованием GridSearchCV и RandomizedSearchCV и кросс-валидации, оцените качество оптимальной модели. Используйте не менее двух стратегий кросс-валидации.\n",
        "\n",
        "6.  Сравните метрики качества исходной и оптимальной моделей.\n",
        "\n",
        "\n",
        "\n",
        "\n",
        "\n",
        "\n",
        "\n",
        "\n",
        "\n",
        "\n"
      ],
      "metadata": {
        "id": "DHziXsvwnsu3"
      },
      "id": "DHziXsvwnsu3"
    },
    {
      "cell_type": "markdown",
      "source": [
        "## Загрузка датасета и чтение с помощью библиотеки Pandas и предварительная обработка данных"
      ],
      "metadata": {
        "id": "ul9qrVFKqdQz"
      },
      "id": "ul9qrVFKqdQz"
    },
    {
      "cell_type": "code",
      "source": [
        "import pandas as pd\n",
        "from sklearn.model_selection import train_test_split, GridSearchCV, RandomizedSearchCV, KFold, StratifiedKFold\n",
        "from sklearn.preprocessing import LabelEncoder\n",
        "from sklearn.neighbors import KNeighborsClassifier\n",
        "from sklearn.metrics import accuracy_score\n",
        "\n",
        "# 1\n",
        "\n",
        "data = pd.read_csv('study_performance.csv')\n",
        "# Для числовых столбцов можно использовать среднее значение\n",
        "data['math_score'] = data['math_score'].fillna(data['math_score'].mean())\n",
        "# Удаление дубликатов\n",
        "data = data.drop_duplicates()\n",
        "\n",
        "\n"
      ],
      "metadata": {
        "id": "bAUEVxN4ox3f"
      },
      "id": "bAUEVxN4ox3f",
      "execution_count": 6,
      "outputs": []
    },
    {
      "cell_type": "markdown",
      "source": [
        "## Кодирование категориальных признаков"
      ],
      "metadata": {
        "id": "3GkgEotjrFxN"
      },
      "id": "3GkgEotjrFxN"
    },
    {
      "cell_type": "code",
      "source": [
        "for column in ['gender', 'race_ethnicity', 'parental_level_of_education', 'lunch', 'test_preparation_course']:\n",
        "    le = LabelEncoder()\n",
        "    data[column] = le.fit_transform(data[column])"
      ],
      "metadata": {
        "id": "jsjseLi8rLLM"
      },
      "id": "jsjseLi8rLLM",
      "execution_count": 7,
      "outputs": []
    },
    {
      "cell_type": "markdown",
      "source": [
        "## Разделим выборку на обучающую и тестовую."
      ],
      "metadata": {
        "id": "854CjgZYrPHs"
      },
      "id": "854CjgZYrPHs"
    },
    {
      "cell_type": "code",
      "source": [
        "X = data.drop(['math_score', 'reading_score','writing_score'], axis=1)\n",
        "y = data['math_score']  # Прогнозируем математический балл, как пример\n",
        "X_train, X_test, y_train, y_test = train_test_split(X, y, test_size=0.2, random_state=42)"
      ],
      "metadata": {
        "id": "5OMi1o-zrlTN"
      },
      "id": "5OMi1o-zrlTN",
      "execution_count": 8,
      "outputs": []
    },
    {
      "cell_type": "markdown",
      "source": [
        "## Обучим модель ближайших соседей для произвольно заданного гиперпараметра K. Оценим качество модели с помощью подходящих для задачи метрик."
      ],
      "metadata": {
        "id": "DaEEhN6FsDO7"
      },
      "id": "DaEEhN6FsDO7"
    },
    {
      "cell_type": "code",
      "source": [
        "k = 5  # Произвольное значение К\n",
        "model = KNeighborsClassifier(n_neighbors=k)\n",
        "model.fit(X_train, y_train)\n",
        "predictions = model.predict(X_test)\n",
        "print(f\"Accuracy: {accuracy_score(y_test, predictions)}\")\n"
      ],
      "metadata": {
        "colab": {
          "base_uri": "https://localhost:8080/"
        },
        "id": "f2tv3D4as3Zc",
        "outputId": "3ef7ecd9-7348-4774-9865-d91e6f1cffb7"
      },
      "id": "f2tv3D4as3Zc",
      "execution_count": 21,
      "outputs": [
        {
          "output_type": "stream",
          "name": "stdout",
          "text": [
            "Accuracy: 0.005\n"
          ]
        }
      ]
    },
    {
      "cell_type": "markdown",
      "source": [
        "## Произведем подбор гиперпараметра K с использованием GridSearchCV и RandomizedSearchCV и кросс-валидации, оценим качество оптимальной модели. Используем не менее двух стратегий кросс-валидации.\n"
      ],
      "metadata": {
        "id": "L3kuI52Ns_dU"
      },
      "id": "L3kuI52Ns_dU"
    },
    {
      "cell_type": "code",
      "source": [
        "param_grid = {'n_neighbors': [3, 5, 7, 9, 11, 13]}\n",
        "kf = KFold(n_splits=5, shuffle=True, random_state=42)\n",
        "skf = StratifiedKFold(n_splits=5, shuffle=True, random_state=42)\n",
        "\n",
        "# GridSearchCV\n",
        "grid_search = GridSearchCV(KNeighborsClassifier(), param_grid, cv=kf, scoring='accuracy')\n",
        "grid_search.fit(X_train, y_train)\n",
        "print(f\"GridSearchCV Best params: {grid_search.best_params_}, Best score: {grid_search.best_score_}\")\n",
        "\n",
        "# RandomizedSearchCV\n",
        "random_search = RandomizedSearchCV(KNeighborsClassifier(), param_grid, n_iter=3, cv=skf, scoring='accuracy', random_state=42)\n",
        "random_search.fit(X_train, y_train)\n",
        "print(f\"RandomizedSearchCV Best params: {random_search.best_params_}, Best score: {random_search.best_score_}\")"
      ],
      "metadata": {
        "colab": {
          "base_uri": "https://localhost:8080/"
        },
        "id": "cgS6LT-ytNCD",
        "outputId": "136426c7-1f96-4528-b975-038d171dabdf"
      },
      "id": "cgS6LT-ytNCD",
      "execution_count": 22,
      "outputs": [
        {
          "output_type": "stream",
          "name": "stdout",
          "text": [
            "GridSearchCV Best params: {'n_neighbors': 3}, Best score: 0.015\n"
          ]
        },
        {
          "output_type": "stream",
          "name": "stderr",
          "text": [
            "/usr/local/lib/python3.10/dist-packages/sklearn/model_selection/_split.py:700: UserWarning: The least populated class in y has only 1 members, which is less than n_splits=5.\n",
            "  warnings.warn(\n"
          ]
        },
        {
          "output_type": "stream",
          "name": "stdout",
          "text": [
            "RandomizedSearchCV Best params: {'n_neighbors': 3}, Best score: 0.02\n"
          ]
        }
      ]
    }
  ],
  "metadata": {
    "kernelspec": {
      "display_name": "Python 3",
      "language": "python",
      "name": "python3"
    },
    "language_info": {
      "codemirror_mode": {
        "name": "ipython",
        "version": 3
      },
      "file_extension": ".py",
      "mimetype": "text/x-python",
      "name": "python",
      "nbconvert_exporter": "python",
      "pygments_lexer": "ipython3",
      "version": "3.7.12"
    },
    "papermill": {
      "default_parameters": {},
      "duration": 20.968388,
      "end_time": "2023-04-21T13:41:05.654386",
      "environment_variables": {},
      "exception": null,
      "input_path": "__notebook__.ipynb",
      "output_path": "__notebook__.ipynb",
      "parameters": {},
      "start_time": "2023-04-21T13:40:44.685998",
      "version": "2.4.0"
    },
    "colab": {
      "provenance": []
    }
  },
  "nbformat": 4,
  "nbformat_minor": 5
}